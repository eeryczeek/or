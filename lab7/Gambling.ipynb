{
 "cells": [
  {
   "cell_type": "markdown",
   "metadata": {},
   "source": [
    "# Lab 7 - Dynamic Programming - Gambling case (for the mark of 3)"
   ]
  },
  {
   "cell_type": "markdown",
   "metadata": {},
   "source": [
    "Information on group members:\n",
    "\n",
    "1) Student ID, Name and last name <br>\n",
    "2) Student ID, Name and last name"
   ]
  },
  {
   "cell_type": "code",
   "execution_count": 49,
   "metadata": {},
   "outputs": [],
   "source": [
    "import numpy as np"
   ]
  },
  {
   "cell_type": "markdown",
   "metadata": {},
   "source": [
    "1.1) This exercise is inspired by Ex. 3 in the Exercises.pdf file. You are going to participate in a game consisting of G consecutive games. You start with D dollars. At each game, you may bet any number of dollars you have. The probability of winning one game is defined as P. Your goal is to have <b> at least </b> E dollars at the end of the game. The default parameter values are given below:"
   ]
  },
  {
   "cell_type": "code",
   "execution_count": 50,
   "metadata": {},
   "outputs": [],
   "source": [
    "# Parameters\n",
    "P = 1/2  # Probability of winning\n",
    "G = 3    # Number of games\n",
    "E = 4    # Required number of dollars after G games\n",
    "S = 2    # Starting dollars\n",
    "\n",
    "def dp_probability(P, G, E, S):\n",
    "    # Memoization table\n",
    "    memo = {}\n",
    "\n",
    "    def dp(i, j):\n",
    "        # Base cases\n",
    "        if i == G + 1:\n",
    "            return 1 if j >= E else 0\n",
    "\n",
    "        # Check if the result is already computed\n",
    "        if (i, j) in memo:\n",
    "            return memo[(i, j)]\n",
    "\n",
    "        # Calculate the probability recursively\n",
    "        win_prob = P * dp(i + 1, j + j)  # Amount won is the bet itself\n",
    "        lose_prob = (1 - P) * dp(i + 1, j - j)  # Amount lost is the bet itself\n",
    "\n",
    "        # Update memoization table and return the result\n",
    "        memo[(i, j)] = win_prob + lose_prob\n",
    "        return memo[(i, j)]\n",
    "\n",
    "    # Start the dynamic programming recursion\n",
    "    probability = dp(1, S)\n",
    "    return probability\n",
    "\n",
    "def solve(P, G, E, S):\n",
    "    result = dp_probability(P, G, E, S)\n",
    "    print(f\"The probability of having at least {E} dollars after {G} games is: {result}\")"
   ]
  },
  {
   "cell_type": "markdown",
   "metadata": {},
   "source": [
    "1.2) Use dynamic programming to solve the problem. Optional: return the example set of optimal decisions as well and illustrate them using a decision tree. "
   ]
  },
  {
   "cell_type": "markdown",
   "metadata": {},
   "source": [
    "1.3) Analyze how the obtained probability of achieving the goal changes for various parameter settings (P, G, E, S). "
   ]
  },
  {
   "cell_type": "code",
   "execution_count": 51,
   "metadata": {},
   "outputs": [
    {
     "name": "stdout",
     "output_type": "stream",
     "text": [
      "The probability of having at least 4 dollars after 3 games is: 0.125\n"
     ]
    }
   ],
   "source": [
    "solve(P, G, E, S)"
   ]
  },
  {
   "cell_type": "code",
   "execution_count": 52,
   "metadata": {},
   "outputs": [
    {
     "name": "stdout",
     "output_type": "stream",
     "text": [
      "The probability of having at least 1 dollars after 1 games is: 0.5\n"
     ]
    }
   ],
   "source": [
    "solve(1/2, 1, 1, 2)"
   ]
  },
  {
   "cell_type": "code",
   "execution_count": 53,
   "metadata": {},
   "outputs": [
    {
     "name": "stdout",
     "output_type": "stream",
     "text": [
      "The probability of having at least 1 dollars after 2 games is: 0.25\n"
     ]
    }
   ],
   "source": [
    "solve(1/2, 2, 1, 3)"
   ]
  },
  {
   "cell_type": "code",
   "execution_count": 54,
   "metadata": {},
   "outputs": [
    {
     "name": "stdout",
     "output_type": "stream",
     "text": [
      "The probability of having at least 10 dollars after 5 games is: 1.0000000000000004e-05\n"
     ]
    }
   ],
   "source": [
    "solve(1/10, 5, 10, 10)"
   ]
  }
 ],
 "metadata": {
  "kernelspec": {
   "display_name": "Python 3 (ipykernel)",
   "language": "python",
   "name": "python3"
  },
  "language_info": {
   "codemirror_mode": {
    "name": "ipython",
    "version": 3
   },
   "file_extension": ".py",
   "mimetype": "text/x-python",
   "name": "python",
   "nbconvert_exporter": "python",
   "pygments_lexer": "ipython3",
   "version": "3.11.6"
  }
 },
 "nbformat": 4,
 "nbformat_minor": 4
}
