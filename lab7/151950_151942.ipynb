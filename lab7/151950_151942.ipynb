{
  "cells": [
    {
      "cell_type": "markdown",
      "metadata": {
        "id": "0w7iTrF_Cud7"
      },
      "source": [
        "# Lab 7 - Dynamic Programming - Power Plant"
      ]
    },
    {
      "cell_type": "markdown",
      "metadata": {
        "id": "cj24hpI-Cud9"
      },
      "source": [
        "Information on group members:\n",
        "\n",
        "1) 151950 Eryk Ptaszyński <br>\n",
        "2) 151942 Filip Firkowski"
      ]
    },
    {
      "cell_type": "code",
      "execution_count": null,
      "metadata": {
        "colab": {
          "background_save": true
        },
        "id": "bK1-GE20Cud-"
      },
      "outputs": [],
      "source": [
        "%matplotlib inline\n",
        "\n",
        "from sympy.interactive import printing\n",
        "printing.init_printing(use_latex=True)\n",
        "\n",
        "import matplotlib.pyplot as plt\n",
        "import sympy as sym\n",
        "from sympy import *\n",
        "import numpy as np"
      ]
    },
    {
      "cell_type": "markdown",
      "metadata": {
        "id": "xzeQ8VGsCud-"
      },
      "source": [
        "This exercise is inspired by Ex. 2 in the Exercises.pdf file. You have to set operating levels for a power plant for consecutive two-months in a way that minimizes the operating costs (using dynamic programming). Before going to the exercise, it is recommended to get acquainted with a Python library for symbolic calculations - SymPy, which can be particularly helpful for solving this task."
      ]
    },
    {
      "cell_type": "markdown",
      "metadata": {
        "id": "4CciE64MCud_"
      },
      "source": [
        "# Mini tutorial on SymPy"
      ]
    },
    {
      "cell_type": "markdown",
      "metadata": {
        "id": "CEibPQBiCud_"
      },
      "source": [
        "SymPy is a library for performing symbolic calculations instead of numerical. It allows defining symbols, functions, expressions, equations and performing various operations on them. The examples of such operations that can help solve this exercise are given below. Note that due to lines: <br><br>\n",
        "from sympy.interactive import printing <br>\n",
        "printing.init_printing(use_latex=True)  <br><br>\n",
        "located in the first cell of this notebook, the symbols can be printed using latex, improving hence readability"
      ]
    },
    {
      "cell_type": "markdown",
      "metadata": {
        "id": "l6PH9Io3Cud_"
      },
      "source": [
        "<b> Defining symbols: </b>"
      ]
    },
    {
      "cell_type": "code",
      "execution_count": null,
      "metadata": {
        "colab": {
          "background_save": true
        },
        "id": "POGzjTRXCud_"
      },
      "outputs": [],
      "source": [
        "z1, z2 = symbols(\"z1 z2\")\n",
        "# or z = symbols(\"z1 z2\")"
      ]
    },
    {
      "cell_type": "markdown",
      "metadata": {
        "id": "C6bTLctjCud_"
      },
      "source": [
        "<b> Printing a symbol using Latex: </b>"
      ]
    },
    {
      "cell_type": "code",
      "execution_count": null,
      "metadata": {
        "colab": {
          "background_save": true,
          "base_uri": "https://localhost:8080/",
          "height": 39
        },
        "id": "mRckSp38Cud_",
        "outputId": "319ac65a-e048-4db3-d52c-8525e1d05aeb"
      },
      "outputs": [
        {
          "data": {
            "text/latex": [
              "$\\displaystyle z_{1}$"
            ],
            "text/plain": [
              "z₁"
            ]
          },
          "execution_count": 111,
          "metadata": {},
          "output_type": "execute_result"
        }
      ],
      "source": [
        "z1"
      ]
    },
    {
      "cell_type": "markdown",
      "metadata": {
        "id": "kmgZCaBzCueA"
      },
      "source": [
        "<b> Defining an expression: </b>"
      ]
    },
    {
      "cell_type": "code",
      "execution_count": null,
      "metadata": {
        "colab": {
          "background_save": true,
          "base_uri": "https://localhost:8080/",
          "height": 40
        },
        "id": "elV11FEBCueA",
        "outputId": "ad95cd26-535d-4335-e693-13a348887bf2"
      },
      "outputs": [
        {
          "data": {
            "text/latex": [
              "$\\displaystyle 2 z_{1} + \\left(10 - z_{2}\\right)^{2}$"
            ],
            "text/plain": [
              "                2\n",
              "2⋅z₁ + (10 - z₂) "
            ]
          },
          "execution_count": 112,
          "metadata": {},
          "output_type": "execute_result"
        }
      ],
      "source": [
        "2*z1 + (10-z2)**2"
      ]
    },
    {
      "cell_type": "markdown",
      "metadata": {
        "id": "bevFcZzjCueB"
      },
      "source": [
        "<b>Expanding the expression:</b>"
      ]
    },
    {
      "cell_type": "code",
      "execution_count": null,
      "metadata": {
        "colab": {
          "background_save": true,
          "base_uri": "https://localhost:8080/",
          "height": 39
        },
        "id": "7u69aOCWCueB",
        "outputId": "b7767ec9-2353-4c23-a68f-c76d0332af99"
      },
      "outputs": [
        {
          "data": {
            "text/latex": [
              "$\\displaystyle 2 z_{1} + z_{2}^{2} - 20 z_{2} + 100$"
            ],
            "text/plain": [
              "         2              \n",
              "2⋅z₁ + z₂  - 20⋅z₂ + 100"
            ]
          },
          "execution_count": 113,
          "metadata": {},
          "output_type": "execute_result"
        }
      ],
      "source": [
        "expand(2*z1 + (10-z2)**2)"
      ]
    },
    {
      "cell_type": "markdown",
      "metadata": {
        "id": "M7_namd1CueB"
      },
      "source": [
        "<b> Simplifying the expression:</b>"
      ]
    },
    {
      "cell_type": "code",
      "execution_count": null,
      "metadata": {
        "colab": {
          "background_save": true,
          "base_uri": "https://localhost:8080/",
          "height": 39
        },
        "id": "k07NP4d0CueB",
        "outputId": "1d2bd05c-d7a7-4292-d781-843ac099b7a6"
      },
      "outputs": [
        {
          "data": {
            "text/latex": [
              "$\\displaystyle - z_{1}^{2} - 8 z_{1} + z_{2}^{2} - 20 z_{2} + 75$"
            ],
            "text/plain": [
              "    2            2             \n",
              "- z₁  - 8⋅z₁ + z₂  - 20⋅z₂ + 75"
            ]
          },
          "execution_count": 114,
          "metadata": {},
          "output_type": "execute_result"
        }
      ],
      "source": [
        "e = simplify(expand(2*z1 + (10-z2)**2 - (5+z1)**2))\n",
        "e"
      ]
    },
    {
      "cell_type": "markdown",
      "metadata": {
        "id": "cgCtKafiCueB"
      },
      "source": [
        "<b> Substituting a variable with a value in the expression:</b>"
      ]
    },
    {
      "cell_type": "code",
      "execution_count": null,
      "metadata": {
        "colab": {
          "background_save": true,
          "base_uri": "https://localhost:8080/"
        },
        "id": "g2xf7wp1CueB",
        "outputId": "b8c05ab9-39ae-4dbc-cc20-2ce1ecd7c7f3"
      },
      "outputs": [
        {
          "name": "stdout",
          "output_type": "stream",
          "text": [
            "20.0000000000000\n"
          ]
        }
      ],
      "source": [
        "e = 2*z1 + (10-z1)**2\n",
        "v = e.evalf(subs={z1: 10})\n",
        "print(v)"
      ]
    },
    {
      "cell_type": "markdown",
      "metadata": {
        "id": "SrFPclR2CueC"
      },
      "source": [
        "<b> Substituting a variable with another variable or value:</b>"
      ]
    },
    {
      "cell_type": "code",
      "execution_count": null,
      "metadata": {
        "colab": {
          "background_save": true,
          "base_uri": "https://localhost:8080/",
          "height": 40
        },
        "id": "vV2mvBAUCueC",
        "outputId": "1bc0c7d7-f54c-4b42-fbbe-77679bb38d57"
      },
      "outputs": [
        {
          "data": {
            "text/latex": [
              "$\\displaystyle 2 z_{1} + \\left(10 - z_{1}\\right)^{2}$"
            ],
            "text/plain": [
              "                2\n",
              "2⋅z₁ + (10 - z₁) "
            ]
          },
          "execution_count": 116,
          "metadata": {},
          "output_type": "execute_result"
        }
      ],
      "source": [
        "e = 2*z1 + (10-z2)**2\n",
        "e.subs(z2, z1)"
      ]
    },
    {
      "cell_type": "markdown",
      "metadata": {
        "id": "qJkIkdSzCueC"
      },
      "source": [
        "<b> Finding a (partial) derivative: </b>"
      ]
    },
    {
      "cell_type": "code",
      "execution_count": null,
      "metadata": {
        "colab": {
          "background_save": true,
          "base_uri": "https://localhost:8080/",
          "height": 39
        },
        "id": "UJCnUy8OCueC",
        "outputId": "41fc20bd-cec4-40ef-f91a-3de7ef66bd67"
      },
      "outputs": [
        {
          "data": {
            "text/latex": [
              "$\\displaystyle 2 z_{2} - 20$"
            ],
            "text/plain": [
              "2⋅z₂ - 20"
            ]
          },
          "execution_count": 117,
          "metadata": {},
          "output_type": "execute_result"
        }
      ],
      "source": [
        "e = 2*z1 + (10-z2)**2\n",
        "d = diff(e, z2)\n",
        "d"
      ]
    },
    {
      "cell_type": "markdown",
      "metadata": {
        "id": "oCiFFxA4CueC"
      },
      "source": [
        "<b> Solving an equation: </b>"
      ]
    },
    {
      "cell_type": "code",
      "execution_count": null,
      "metadata": {
        "colab": {
          "background_save": true,
          "base_uri": "https://localhost:8080/"
        },
        "id": "l_wuq9MKCueC",
        "outputId": "43b3cfac-5681-46cd-8a70-5328d2c0beca"
      },
      "outputs": [
        {
          "name": "stdout",
          "output_type": "stream",
          "text": [
            "[10]\n"
          ]
        }
      ],
      "source": [
        "e = 2*z1 + (10-z2)**2\n",
        "d = diff(e, z2)\n",
        "v = solve(Eq(d, 0), z2)\n",
        "print(v)"
      ]
    },
    {
      "cell_type": "markdown",
      "metadata": {
        "id": "YZQ0XDOCCueC"
      },
      "source": [
        "# Exercise"
      ]
    },
    {
      "cell_type": "markdown",
      "metadata": {
        "id": "ar9ntkRGCueC"
      },
      "source": [
        "Below given is the data. In contrast to the exercise shown in the Exercise.pdf file, note that all pairs of all 12 months are considered stages in this notebook."
      ]
    },
    {
      "cell_type": "code",
      "execution_count": null,
      "metadata": {
        "colab": {
          "background_save": true,
          "base_uri": "https://localhost:8080/",
          "height": 430
        },
        "id": "T3AJDrSRCueD",
        "outputId": "c31040bf-c354-4c82-8eb7-ada09fd6eb03"
      },
      "outputs": [
        {
          "data": {
            "image/png": "[encoded data removed]",
            "text/plain": [
              "<Figure size 640x480 with 1 Axes>"
            ]
          },
          "metadata": {},
          "output_type": "display_data"
        }
      ],
      "source": [
        "MONTHS = [\"Jan-Feb\", \"Mar-Apr\", \"May-Jun\", \"Jul-Aug\", \"Sep-Oct\", \"Nov-Dec\"]\n",
        "\n",
        "### min requested operating level (1-10) + allowable bounds\n",
        "REQUEST = [8,5,2,4,7,10]\n",
        "BOUNDS = [[REQUEST[i], 10] for i in range(6)]\n",
        "\n",
        "plt.plot([i for i in range(12)], REQUEST + REQUEST, label='linear')\n",
        "plt.show()"
      ]
    },
    {
      "cell_type": "markdown",
      "metadata": {
        "id": "fprDHq3dCueD"
      },
      "source": [
        "<b> Cost: </b> Working above the required level - cost in a generic form:"
      ]
    },
    {
      "cell_type": "code",
      "execution_count": null,
      "metadata": {
        "colab": {
          "background_save": true,
          "base_uri": "https://localhost:8080/",
          "height": 39
        },
        "id": "u4hCcZUjCueD",
        "outputId": "fa9f3d3c-7a28-4359-a5c9-58c70d4c3799"
      },
      "outputs": [
        {
          "data": {
            "text/latex": [
              "$\\displaystyle m_{i1} \\left(- r_{i} + x_{i}\\right)$"
            ],
            "text/plain": [
              "m_{i1}⋅(-rᵢ + xᵢ)"
            ]
          },
          "execution_count": 120,
          "metadata": {},
          "output_type": "execute_result"
        }
      ],
      "source": [
        "xi, ri, mi1 = symbols(\"x_i r_i m_{i1}\")\n",
        "cost_above = mi1*(xi-ri)\n",
        "cost_above #mi1 = multiplicator, #xi = operating level #ri = requirement (lower bound)"
      ]
    },
    {
      "cell_type": "markdown",
      "metadata": {
        "id": "abjDuBLMCueD"
      },
      "source": [
        "You can do c = cost_above.copy() and then c.subs, replacing variables with values (m, p, r) or other variables (r):"
      ]
    },
    {
      "cell_type": "code",
      "execution_count": null,
      "metadata": {
        "colab": {
          "background_save": true,
          "base_uri": "https://localhost:8080/",
          "height": 39
        },
        "id": "BThyQGq4CueD",
        "outputId": "f7310048-b478-43db-e555-f9f39b7c98e7"
      },
      "outputs": [
        {
          "data": {
            "text/latex": [
              "$\\displaystyle x_{1} - 100$"
            ],
            "text/plain": [
              "x₁ - 100"
            ]
          },
          "execution_count": 121,
          "metadata": {},
          "output_type": "execute_result"
        }
      ],
      "source": [
        "x1 = symbols(\"x1\")\n",
        "c = cost_above.copy()\n",
        "c = c.subs(xi, x1)\n",
        "c = c.subs(mi1, 1)\n",
        "c = c.subs(ri, 100)\n",
        "c"
      ]
    },
    {
      "cell_type": "markdown",
      "metadata": {
        "id": "oWaFShcRCueD"
      },
      "source": [
        "Below are provided m parameter values for each month:"
      ]
    },
    {
      "cell_type": "code",
      "execution_count": null,
      "metadata": {
        "colab": {
          "background_save": true
        },
        "id": "SLSuZny0CueE"
      },
      "outputs": [],
      "source": [
        "mv1 = [2, 8, 10, 12, 10, 6 ]"
      ]
    },
    {
      "cell_type": "markdown",
      "metadata": {
        "id": "nSo8eRfYCueE"
      },
      "source": [
        "<b> Cost: </b> Chaging the operating level - cost in a generic form:"
      ]
    },
    {
      "cell_type": "code",
      "execution_count": null,
      "metadata": {
        "colab": {
          "background_save": true,
          "base_uri": "https://localhost:8080/",
          "height": 39
        },
        "id": "LzZXq4-GCueE",
        "outputId": "d096b85e-2d95-43a1-dc3a-8eb98c0762a8"
      },
      "outputs": [
        {
          "data": {
            "text/latex": [
              "$\\displaystyle m_{i2} \\left(- s_{i} + x_{i}\\right)^{p_{i}}$"
            ],
            "text/plain": [
              "                    pᵢ\n",
              "m_{i2}⋅(-s_{i} + xᵢ)  "
            ]
          },
          "execution_count": 123,
          "metadata": {},
          "output_type": "execute_result"
        }
      ],
      "source": [
        "si, mi2, pi = symbols(\"s_{i} m_{i2} p_i\")\n",
        "cost_change = mi2*(xi-si)**pi\n",
        "cost_change #mi2 = multiplicator, #pi = exponent #xi = operating level (i-th month) #s_{i} = state: operating level ((i-1)-th month)\n",
        "cost_change"
      ]
    },
    {
      "cell_type": "markdown",
      "metadata": {
        "id": "1-dWqIBJCueE"
      },
      "source": [
        "Below are provided m and p parameter values for each month:"
      ]
    },
    {
      "cell_type": "code",
      "execution_count": null,
      "metadata": {
        "colab": {
          "background_save": true
        },
        "id": "dRVicOzvCueE"
      },
      "outputs": [],
      "source": [
        "mv2 = [6, 4, 1, 1, 3, 5]\n",
        "pv = [2, 2, 2, 2, 2, 2]"
      ]
    },
    {
      "cell_type": "markdown",
      "metadata": {
        "id": "6HG7BtH9CueE"
      },
      "source": [
        "# Solution:"
      ]
    },
    {
      "cell_type": "markdown",
      "metadata": {
        "id": "fmqEsf3zCueE"
      },
      "source": [
        "Apart from finding optimal operating levels for each month, plot these values along with the lower bounds for each month in order to show how they change in time.<br><br>Hints:<br>\n",
        "- the optimal cost = 135.42<br>\n",
        "- there is no situation when the minima for first derivatives are outside allowable bounds (but test it anyway)<br><br>\n",
        "\n",
        "After obtaining and plotting the solution, check what would happen is you change the mv1[2] parameter to 5."
      ]
    },
    {
      "cell_type": "code",
      "execution_count": null,
      "metadata": {
        "colab": {
          "background_save": true,
          "base_uri": "https://localhost:8080/",
          "height": 39
        },
        "id": "x3I5hDG-CueM",
        "outputId": "a0e901b1-0919-47dd-d66a-7f53b0bd516d"
      },
      "outputs": [
        {
          "data": {
            "text/latex": [
              "$\\displaystyle m_{i2} \\left(- s_{i} + x_{i}\\right)^{p_{i}}$"
            ],
            "text/plain": [
              "                    pᵢ\n",
              "m_{i2}⋅(-s_{i} + xᵢ)  "
            ]
          },
          "execution_count": 125,
          "metadata": {},
          "output_type": "execute_result"
        }
      ],
      "source": [
        "si, mi2, pi = symbols(\"s_{i} m_{i2} p_i\")\n",
        "cost_change = mi2*(xi-si)**pi\n",
        "cost_change\n",
        "cost_change"
      ]
    },
    {
      "cell_type": "code",
      "execution_count": null,
      "metadata": {
        "colab": {
          "background_save": true,
          "base_uri": "https://localhost:8080/",
          "height": 39
        },
        "id": "yddeYnu3CueM",
        "outputId": "35c33976-70dd-41fd-f704-d5753202715d"
      },
      "outputs": [
        {
          "data": {
            "text/latex": [
              "$\\displaystyle m_{i1} \\left(- r_{i} + x_{i}\\right)$"
            ],
            "text/plain": [
              "m_{i1}⋅(-rᵢ + xᵢ)"
            ]
          },
          "execution_count": 126,
          "metadata": {},
          "output_type": "execute_result"
        }
      ],
      "source": [
        "xi, ri, mi1 = symbols(\"x_i r_i m_{i1}\")\n",
        "cost_above = mi1*(xi-ri)\n",
        "cost_above"
      ]
    },
    {
      "cell_type": "code",
      "execution_count": null,
      "metadata": {
        "colab": {
          "background_save": true
        },
        "id": "Pp7i7kvCCueM"
      },
      "outputs": [],
      "source": [
        "MONTHS = [\"Jan-Feb\", \"Mar-Apr\", \"May-Jun\", \"Jul-Aug\", \"Sep-Oct\", \"Nov-Dec\"]\n",
        "REQUEST, MV1, MV2, PV = [8,5,2,4,7,10], [2,8,10,12,10,6], [6,4,1,1,3,5], [2,2,2,2,2,2]\n",
        "BOUNDS = [(request, 10) for request in REQUEST]\n",
        "\n",
        "def getCostAbove(index, x):\n",
        "    return MV1[index] * (x - REQUEST[index])\n",
        "\n",
        "def getCostChange(index, x, previous):\n",
        "    return MV2[index] * (x - previous) ** PV[index]\n",
        "\n",
        "def exchangeSandX(variable):\n",
        "    if variable.name.startswith('x'):\n",
        "        return symbols(f\"s_{int(variable.name[2:]) + 1}\")\n",
        "    elif variable.name.startswith('s'):\n",
        "        return symbols(f\"x_{int(variable.name[2:]) - 1 if int(variable.name[2:]) else len(REQUEST) - 1}\")\n",
        "\n",
        "def calculateBoundaryValues(index, equation):\n",
        "    var = next(iter(equation.free_symbols))\n",
        "    return solve(Eq(equation, BOUNDS[index][0]), var)"
      ]
    },
    {
      "cell_type": "code",
      "execution_count": null,
      "metadata": {
        "colab": {
          "background_save": true,
          "base_uri": "https://localhost:8080/",
          "height": 92
        },
        "id": "6-HSG3SvCueN",
        "outputId": "61d49d9d-7613-41aa-8c3e-ec5f3fa8bcd8"
      },
      "outputs": [
        {
          "data": {
            "text/latex": [
              "$\\displaystyle \\left\\{ x_{0} : \\frac{167 s_{0}}{177} - \\frac{887}{1062}, \\  x_{1} : \\frac{152 s_{1}}{167} - \\frac{180}{167}, \\  x_{2} : \\frac{23 s_{2}}{38} - \\frac{14}{19}, \\  x_{3} : \\frac{8 s_{3}}{23} + \\frac{87}{23}, \\  x_{4} : \\frac{3 s_{4}}{8} + \\frac{45}{8}, \\  x_{5} : 10\\right\\}$"
            ],
            "text/plain": [
              "⎧    167⋅s₀   887       152⋅s₁   180      23⋅s₂   14      8⋅s₃   87      3⋅s₄ \n",
              "⎨x₀: ────── - ────, x₁: ────── - ───, x₂: ───── - ──, x₃: ──── + ──, x₄: ──── \n",
              "⎩     177     1062       167     167        38    19       23    23       8   \n",
              "\n",
              "  45        ⎫\n",
              "+ ──, x₅: 10⎬\n",
              "  8         ⎭"
            ]
          },
          "metadata": {},
          "output_type": "display_data"
        },
        {
          "name": "stdout",
          "output_type": "stream",
          "text": [
            "[(x_0, 8.599811676082863), (x_1, 6.749529190207157), (x_2, 3.3483992467043313), (x_3, 4.947269303201507), (x_4, 7.480225988700565), (x_5, 10.0)]\n",
            "Optimal cost: 135.424670433145\n"
          ]
        }
      ],
      "source": [
        "from sympy import symbols, diff, solve, Piecewise, nan\n",
        "\n",
        "def calculate_optimal_costs():\n",
        "    currX = startingPoint = len(REQUEST) - 1\n",
        "    calculatedXes, optimalCosts = {}, {len(REQUEST): 0}\n",
        "\n",
        "    while f\"x_{currX}\" not in calculatedXes:\n",
        "        variable, state = symbols(f\"x_{currX} s_{currX}\")\n",
        "        objectiveFunction = getCostChange(currX, variable, state) + getCostAbove(currX, variable) + optimalCosts[currX + 1]\n",
        "\n",
        "        if BOUNDS[currX][0] == BOUNDS[currX][1]:\n",
        "            calculatedXes[variable] = BOUNDS[currX][0]\n",
        "            objectiveFunction = objectiveFunction.subs(variable, BOUNDS[currX][0])\n",
        "            optimalCosts[currX] = objectiveFunction.subs(state, exchangeSandX(state))\n",
        "        else:\n",
        "            derObjectiveFunction = diff(objectiveFunction, variable)\n",
        "            solution = solve(Eq(derObjectiveFunction, 0), variable)[0]\n",
        "            testLowerBound = solution.subs(state, BOUNDS[currX-1][0])\n",
        "\n",
        "            if currX == 0:\n",
        "                solution = solve(Eq(derObjectiveFunction, 0), variable)[0]\n",
        "                if isinstance(solution, Piecewise):\n",
        "                    filtered_conditions = [(expr, cond) if not expr.has(nan) else (expr.subs(nan, 0), cond) for expr, cond in solution.args ]\n",
        "                    solution = Piecewise(*filtered_conditions)\n",
        "                calculatedXes[variable] = solution\n",
        "                optimalCosts[currX] = objectiveFunction.subs(variable, solution).subs(state, exchangeSandX(state))\n",
        "                break\n",
        "\n",
        "            testUpperBound = solution.subs(state, BOUNDS[currX-1][1])\n",
        "\n",
        "            if testLowerBound > BOUNDS[currX][0] and testUpperBound < BOUNDS[currX][1]:\n",
        "                objectiveFunction = objectiveFunction.subs(variable, solution)\n",
        "                optimalCosts[currX] = objectiveFunction.subs(state, exchangeSandX(state))\n",
        "                calculatedXes[variable] = solution\n",
        "            else:\n",
        "                lowerBoundary = calculateBoundaryValues(currX, solution)[0]\n",
        "                piecewise = Piecewise((solution,(BOUNDS[currX][1] >= state) & (state >= lowerBoundary)),\n",
        "                                  (BOUNDS[currX][0], (BOUNDS[currX-1][0] < state) & (state < lowerBoundary)))\n",
        "\n",
        "                optimalCosts[currX] = objectiveFunction.subs(variable, piecewise).subs(state, exchangeSandX(state))\n",
        "                calculatedXes[variable] = piecewise\n",
        "\n",
        "        currX = (currX - 1) % len(REQUEST)\n",
        "\n",
        "    return calculatedXes, optimalCosts\n",
        "\n",
        "def update_calculatedXes(calculatedXes):\n",
        "    for key, value in reversed(calculatedXes.items()):\n",
        "        try:\n",
        "            variable = value.free_symbols.pop()\n",
        "            calculatedX = calculatedXes[exchangeSandX(variable)]\n",
        "            calculatedXes[key] = value.subs(variable, calculatedX)\n",
        "        except Exception as e:\n",
        "            break\n",
        "    return calculatedXes\n",
        "\n",
        "calculatedXes, optimalCosts = calculate_optimal_costs()\n",
        "calculatedXes = update_calculatedXes(calculatedXes)\n",
        "\n",
        "print([(x ,float(val)) for x, val in reversed(calculatedXes.items())])\n",
        "print(\"Optimal cost:\", float(optimalCosts[0].subs(calculatedXes)))"
      ]
    },
    {
      "cell_type": "code",
      "execution_count": null,
      "metadata": {
        "colab": {
          "background_save": true,
          "base_uri": "https://localhost:8080/",
          "height": 472
        },
        "id": "T7FqDpBGCueN",
        "outputId": "bfc7c590-029f-40e5-8bba-b60e2acca686"
      },
      "outputs": [
        {
          "data": {
            "image/png": "[encoded data removed]",
            "text/plain": [
              "<Figure size 640x480 with 1 Axes>"
            ]
          },
          "metadata": {},
          "output_type": "display_data"
        }
      ],
      "source": [
        "x_values = MONTHS\n",
        "y_values = [float(calculatedXes[symbols(f'x_{i}')]) for i in range(len(MONTHS))]\n",
        "\n",
        "fig, ax = plt.subplots()\n",
        "ax.plot(x_values, y_values, marker='o', linestyle='-', color='green', label='Operating Level')\n",
        "\n",
        "for i in range(len(MONTHS)):\n",
        "    lower_bound = BOUNDS[i][0]\n",
        "    upper_bound = BOUNDS[i][1]\n",
        "    ax.vlines(x_values[i], lower_bound, upper_bound, colors='orange', linestyles='solid')\n",
        "    ax.hlines([lower_bound, upper_bound], x_values[i], x_values[i], colors='red')\n",
        "    ax.annotate(f'{y_values[i]:.2f}', (x_values[i], y_values[i]), textcoords=\"offset points\", xytext=(0,10), ha='center')\n",
        "\n",
        "ax.set_xlabel('Months')\n",
        "ax.set_ylabel('Operating Level')\n",
        "ax.set_ylim(bottom=0)\n",
        "ax.set_title('Operating Level in given Months')\n",
        "ax.legend(loc='lower right')\n",
        "plt.show()"
      ]
    }
  ],
  "metadata": {
    "colab": {
      "provenance": []
    },
    "kernelspec": {
      "display_name": "Python 3",
      "language": "python",
      "name": "python3"
    },
    "language_info": {
      "codemirror_mode": {
        "name": "ipython",
        "version": 3
      },
      "file_extension": ".py",
      "mimetype": "text/x-python",
      "name": "python",
      "nbconvert_exporter": "python",
      "pygments_lexer": "ipython3",
      "version": "3.10.8"
    }
  },
  "nbformat": 4,
  "nbformat_minor": 0
}
